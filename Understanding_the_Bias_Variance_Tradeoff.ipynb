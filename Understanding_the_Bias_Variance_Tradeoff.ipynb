{
  "nbformat": 4,
  "nbformat_minor": 0,
  "metadata": {
    "colab": {
      "name": "Understanding the Bias-Variance Tradeoff.ipynb",
      "provenance": [],
      "include_colab_link": true
    },
    "kernelspec": {
      "name": "python3",
      "display_name": "Python 3"
    }
  },
  "cells": [
    {
      "cell_type": "markdown",
      "metadata": {
        "id": "view-in-github",
        "colab_type": "text"
      },
      "source": [
        "<a href=\"https://colab.research.google.com/github/actuaryhafeez/coding/blob/master/Understanding_the_Bias_Variance_Tradeoff.ipynb\" target=\"_parent\"><img src=\"https://colab.research.google.com/assets/colab-badge.svg\" alt=\"Open In Colab\"/></a>"
      ]
    },
    {
      "cell_type": "markdown",
      "metadata": {
        "id": "qMkZmVPgRq9n",
        "colab_type": "text"
      },
      "source": [
        "# Understanding the Bias-Variance Tradeoff\n",
        "\n",
        "### Whenever we discuss model prediction, it’s important to understand prediction errors (bias and variance). There is a tradeoff between a model’s ability to minimize bias and variance. Gaining a proper understanding of these errors would help us not only to build accurate models but also to avoid the mistake of overfitting and underfitting.\n",
        "\n",
        "### So let’s start with the basics and see how they make difference to our machine learning Models.\n",
        "\n",
        "# What is bias?\n",
        "### Bias is the difference between the average prediction of our model and the correct value which we are trying to predict. Model with high bias pays very little attention to the training data and oversimplifies the model. It always leads to high error on training and test data.\n",
        "\n",
        "# What is variance?\n",
        "### Variance is the variability of model prediction for a given data point or a value which tells us spread of our data. Model with high variance pays a lot of attention to training data and does not generalize on the data which it hasn’t seen before. As a result, such models perform very well on training data but has high error rates on test data.\n",
        "\n",
        "# Mathematically\n",
        "### Let the variable we are trying to predict as Y and other covariates as X. We assume there is a relationship between the two such that\n",
        "![alt text](https://miro.medium.com/max/1818/1*JNV_u8RNjXxw8Ko6SXjhvA.png)\n",
        "### Where e is the error term and it’s normally distributed with a mean of 0.\n",
        "### We will make a model f^(X) of f(X) using linear regression or any other modeling technique.\n",
        "### So the expected squared error at a point x is\n",
        "\n",
        "![alt text](https://miro.medium.com/max/290/1*BtpFTBrGaQNE3TvU-0EVSQ.png)\n",
        "\n",
        "### The Err(x) can be further decomposed as\n",
        "![alt text](https://miro.medium.com/max/579/1*e7VaoBh5apjaM2p4afkFyg.png)\n",
        "\n",
        "### Err(x) is the sum of Bias², variance and the irreducible error.\n",
        "### Irreducible error is the error that can’t be reduced by creating good models. It is a measure of the amount of noise in our data. Here it is important to understand that no matter how good we make our model, our data will have certain amount of noise or irreducible error that can not be removed.\n",
        "\n"
      ]
    },
    {
      "cell_type": "markdown",
      "metadata": {
        "id": "abNhib_8UDbU",
        "colab_type": "text"
      },
      "source": [
        "**# Bias and variance using bulls-eye diagram**\n",
        "\n",
        "![elt text](https://miro.medium.com/max/468/1*xwtSpR_zg7j7zusa4IDHNQ.png)\n",
        "\n",
        "### **In the above diagram**, center of the target is a model that perfectly predicts correct values. As we move away from the bulls-eye our predictions become get worse and worse. We can repeat our process of model building to get separate hits on the target.\n",
        "### In supervised learning, **underfitting** happens \n",
        "### - when a model unable to capture the underlying pattern of the data. These models usually have high bias and low variance. \n",
        "### - It happens when we have very less amount of data to build an accurate model or when we try to build a linear model with a nonlinear data. \n",
        "### - Also, these kind of models are very simple to capture the complex patterns in data like Linear and logistic regression.\n",
        "\n",
        "### In supervised learning, **overfitting** happens \n",
        "### - when our model captures the noise along with the underlying pattern in data. - It happens when we train our model a lot over noisy dataset. \n",
        "### - These models have low bias and high variance. These models are very complex like Decision trees which are prone to overfitting.\n",
        "\n",
        "![alt text](https://miro.medium.com/max/830/1*9hPX9pAO3jqLrzt0IE3JzA.png)"
      ]
    },
    {
      "cell_type": "markdown",
      "metadata": {
        "id": "sCw6Fh6BV4kt",
        "colab_type": "text"
      },
      "source": [
        "# Why is Bias Variance Tradeoff?\n",
        "### If our model is too simple and has very few parameters then it may have high bias and low variance. On the other hand if our model has large number of parameters then it’s going to have high variance and low bias. So we need to find the right/good balance without overfitting and underfitting the data.\n",
        "\n",
        "### This tradeoff in complexity is why there is a tradeoff between bias and variance. An algorithm can’t be more complex and less complex at the same time.\n",
        "\n",
        "### Total Error\n",
        "### To build a good model, we need to find a good balance between bias and variance such that it minimizes the total error.\n",
        "\n",
        "![alt text](https://miro.medium.com/max/441/1*SKHGhoGKnBh_GPGHI2Ktvw.png)\n",
        "\n",
        "![alt ext](https://miro.medium.com/max/562/1*RQ6ICt_FBSx6mkAsGVwx8g.png)\n",
        "\n",
        "### An optimal balance of bias and variance would never overfit or underfit the model.\n",
        "\n",
        "### Therefore understanding bias and variance is critical for understanding the behavior of prediction models.\n"
      ]
    },
    {
      "cell_type": "code",
      "metadata": {
        "id": "CYIh5iQzXkGg",
        "colab_type": "code",
        "colab": {}
      },
      "source": [
        ""
      ],
      "execution_count": 0,
      "outputs": []
    }
  ]
}