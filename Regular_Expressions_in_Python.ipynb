{
  "nbformat": 4,
  "nbformat_minor": 0,
  "metadata": {
    "colab": {
      "name": "Regular Expressions in Python.ipynb",
      "provenance": [],
      "include_colab_link": true
    },
    "kernelspec": {
      "name": "python3",
      "display_name": "Python 3"
    }
  },
  "cells": [
    {
      "cell_type": "markdown",
      "metadata": {
        "id": "view-in-github",
        "colab_type": "text"
      },
      "source": [
        "<a href=\"https://colab.research.google.com/github/actuaryhafeez/coding/blob/master/Regular_Expressions_in_Python.ipynb\" target=\"_parent\"><img src=\"https://colab.research.google.com/assets/colab-badge.svg\" alt=\"Open In Colab\"/></a>"
      ]
    },
    {
      "cell_type": "markdown",
      "metadata": {
        "id": "IqlEaGAcVybM",
        "colab_type": "text"
      },
      "source": [
        "# First day!\n",
        "Congratulations! It's your first day as a data scientist in the company! Your first project is to build a model for predicting if a movie will get a positive or negative review.\n",
        "You need to start exploring your dataset. In order to create a function that will scan each movie review, you want to know how many characters every string has and print the result out together with a statement that indicate what the number refers to. To test if your function works correctly, you are going to start by analyzing only one example.\n",
        "\n",
        "The text of one movie review has been already saved in the variable movie. You can use print(movie) to view the variable in the IPython Shell."
      ]
    },
    {
      "cell_type": "code",
      "metadata": {
        "id": "pF57IdGWWCbu",
        "colab_type": "code",
        "colab": {}
      },
      "source": [
        "movie = 'fox and kelley soon become bitter rivals because the new fox books store is opening up right across the block from the small business .'"
      ],
      "execution_count": 0,
      "outputs": []
    },
    {
      "cell_type": "markdown",
      "metadata": {
        "id": "7Xjb7x2AVooI",
        "colab_type": "text"
      },
      "source": [
        ""
      ]
    },
    {
      "cell_type": "code",
      "metadata": {
        "id": "zpj0WkzPXCW9",
        "colab_type": "code",
        "outputId": "87fd3987-5564-46cf-e308-1d3942aaae17",
        "colab": {
          "base_uri": "https://localhost:8080/",
          "height": 34
        }
      },
      "source": [
        "# Find characters in movie variable\n",
        "length_string = len(movie); length_string"
      ],
      "execution_count": 0,
      "outputs": [
        {
          "output_type": "execute_result",
          "data": {
            "text/plain": [
              "135"
            ]
          },
          "metadata": {
            "tags": []
          },
          "execution_count": 8
        }
      ]
    },
    {
      "cell_type": "code",
      "metadata": {
        "id": "MWrHhuJuXF-S",
        "colab_type": "code",
        "outputId": "90f8f82e-f06b-469f-fd5b-d63d2456174b",
        "colab": {
          "base_uri": "https://localhost:8080/",
          "height": 34
        }
      },
      "source": [
        "# Convert to string\n",
        "to_string = str(length_string); to_string"
      ],
      "execution_count": 0,
      "outputs": [
        {
          "output_type": "execute_result",
          "data": {
            "text/plain": [
              "'135'"
            ]
          },
          "metadata": {
            "tags": []
          },
          "execution_count": 9
        }
      ]
    },
    {
      "cell_type": "code",
      "metadata": {
        "id": "UrqPDbxHXH_y",
        "colab_type": "code",
        "outputId": "71126811-ec5b-43d8-908a-13280d6e1c0a",
        "colab": {
          "base_uri": "https://localhost:8080/",
          "height": 34
        }
      },
      "source": [
        "# Predefined variable\n",
        "statement = \"Number of characters in this review:\"; statement"
      ],
      "execution_count": 0,
      "outputs": [
        {
          "output_type": "execute_result",
          "data": {
            "text/plain": [
              "'Number of characters in this review:'"
            ]
          },
          "metadata": {
            "tags": []
          },
          "execution_count": 10
        }
      ]
    },
    {
      "cell_type": "code",
      "metadata": {
        "id": "nuaC0DWkXJ2o",
        "colab_type": "code",
        "outputId": "394cf5b1-0814-42e1-f7e3-2d66366c93e7",
        "colab": {
          "base_uri": "https://localhost:8080/",
          "height": 34
        }
      },
      "source": [
        "# Concatenate strings and print result\n",
        "print(statement+ \" \"+to_string)"
      ],
      "execution_count": 0,
      "outputs": [
        {
          "output_type": "stream",
          "text": [
            "Number of characters in this review: 135\n"
          ],
          "name": "stdout"
        }
      ]
    },
    {
      "cell_type": "markdown",
      "metadata": {
        "id": "2FTH9S62hG2s",
        "colab_type": "text"
      },
      "source": [
        "**Artificial reviews**\n",
        "While checking out the movie reviews in your dataset, you realize that some of them show an atypical pattern. Since you should only include true reviews in your analysis, you decide to extract the suspicious ones that follow this pattern. You want to see if it is possible to artificially create reviews by using the first and last part of one example review and changing a keyword in the middle.\n",
        "\n",
        "The text of two movie reviews has been already saved in the variables **movie1 **and **movie2**. You can use the print() function to view the variables in the IPython Shell."
      ]
    },
    {
      "cell_type": "code",
      "metadata": {
        "id": "VYynZLAzhQ-u",
        "colab_type": "code",
        "outputId": "4e63b28d-06b4-424a-8863-ec633e8f9063",
        "colab": {
          "base_uri": "https://localhost:8080/",
          "height": 34
        }
      },
      "source": [
        "movie1= 'the most significant tension of _election_ is the potential relationship between a teacher and his student .';movie1"
      ],
      "execution_count": 0,
      "outputs": [
        {
          "output_type": "execute_result",
          "data": {
            "text/plain": [
              "'the most significant tension of _election_ is the potential relationship between a teacher and his student .'"
            ]
          },
          "metadata": {
            "tags": []
          },
          "execution_count": 13
        }
      ]
    },
    {
      "cell_type": "code",
      "metadata": {
        "id": "5NrHGbXoheYB",
        "colab_type": "code",
        "outputId": "fa425388-7ed4-419d-fbba-f04299fa0f3d",
        "colab": {
          "base_uri": "https://localhost:8080/",
          "height": 34
        }
      },
      "source": [
        "movie2= 'the most significant tension of _rushmore_ is the potential relationship between a teacher and his student .'; movie2"
      ],
      "execution_count": 0,
      "outputs": [
        {
          "output_type": "execute_result",
          "data": {
            "text/plain": [
              "'the most significant tension of _rushmore_ is the potential relationship between a teacher and his student .'"
            ]
          },
          "metadata": {
            "tags": []
          },
          "execution_count": 14
        }
      ]
    },
    {
      "cell_type": "code",
      "metadata": {
        "id": "gVd9G6S7hnLa",
        "colab_type": "code",
        "outputId": "2a8b4f1f-db20-438b-e0c2-3dff58010e2b",
        "colab": {
          "base_uri": "https://localhost:8080/",
          "height": 34
        }
      },
      "source": [
        "# Select the first 32 characters of movie1\n",
        "first_part = movie1[:32]; first_part"
      ],
      "execution_count": 0,
      "outputs": [
        {
          "output_type": "execute_result",
          "data": {
            "text/plain": [
              "'the most significant tension of '"
            ]
          },
          "metadata": {
            "tags": []
          },
          "execution_count": 15
        }
      ]
    },
    {
      "cell_type": "code",
      "metadata": {
        "id": "wva3Q6dMhtkU",
        "colab_type": "code",
        "outputId": "b503dedf-4daf-4aea-fe36-2ef0e06156f1",
        "colab": {
          "base_uri": "https://localhost:8080/",
          "height": 34
        }
      },
      "source": [
        "# Select from 43rd character to the end of movie1\n",
        "last_part = movie1[42:]; last_part"
      ],
      "execution_count": 0,
      "outputs": [
        {
          "output_type": "execute_result",
          "data": {
            "text/plain": [
              "' is the potential relationship between a teacher and his student .'"
            ]
          },
          "metadata": {
            "tags": []
          },
          "execution_count": 16
        }
      ]
    },
    {
      "cell_type": "code",
      "metadata": {
        "id": "6e3q2D1ZhxKZ",
        "colab_type": "code",
        "outputId": "80d19d31-cfcd-460a-9688-be2b4ce1b07e",
        "colab": {
          "base_uri": "https://localhost:8080/",
          "height": 34
        }
      },
      "source": [
        "# Select from 33rd to the 42nd character\n",
        "middle_part = movie2[32:42]; middle_part"
      ],
      "execution_count": 0,
      "outputs": [
        {
          "output_type": "execute_result",
          "data": {
            "text/plain": [
              "'_rushmore_'"
            ]
          },
          "metadata": {
            "tags": []
          },
          "execution_count": 17
        }
      ]
    },
    {
      "cell_type": "code",
      "metadata": {
        "id": "nwKg6rlVhzTX",
        "colab_type": "code",
        "outputId": "23158608-7032-4021-d336-1d71ddbb0f72",
        "colab": {
          "base_uri": "https://localhost:8080/",
          "height": 51
        }
      },
      "source": [
        "# Print concatenation and movie2 variable\n",
        "print(first_part+middle_part+last_part) \n",
        "print(movie2)"
      ],
      "execution_count": 0,
      "outputs": [
        {
          "output_type": "stream",
          "text": [
            "the most significant tension of _rushmore_ is the potential relationship between a teacher and his student .\n",
            "the most significant tension of _rushmore_ is the potential relationship between a teacher and his student .\n"
          ],
          "name": "stdout"
        }
      ]
    },
    {
      "cell_type": "markdown",
      "metadata": {
        "id": "0GPmZ7CEiNYg",
        "colab_type": "text"
      },
      "source": [
        "# Palindromes\n",
        "Next, you are committed to find any peculiarity in the words included in the movie review dataset. A palindrome is a sequence of characters which can be read the same backward as forward, for example: Madam or No lemon, no melon. You realize that there are some funny movie names that can have this characteristic. You want to make a list of all movie titles that are funny palindromes but you will start by analyzing one example.\n",
        "\n",
        "In python, you can also specify steps by using a third index. If you don't specify the first or second index and the third one is negative, it will return the characters jumping and backwards.\n",
        "\n",
        "The text of a movie review for one example has been already saved in the variable movie. You can use print(movie) to view the variable in the IPython Shell."
      ]
    },
    {
      "cell_type": "code",
      "metadata": {
        "id": "dbf4zMX1lIur",
        "colab_type": "code",
        "outputId": "ade8a8a7-911b-45c1-e253-99f1700d2bb4",
        "colab": {
          "base_uri": "https://localhost:8080/",
          "height": 34
        }
      },
      "source": [
        "movie = 'oh my God! desserts I stressed was an ugly movie';movie"
      ],
      "execution_count": 0,
      "outputs": [
        {
          "output_type": "execute_result",
          "data": {
            "text/plain": [
              "'oh my God! desserts I stressed was an ugly movie'"
            ]
          },
          "metadata": {
            "tags": []
          },
          "execution_count": 23
        }
      ]
    },
    {
      "cell_type": "code",
      "metadata": {
        "id": "lDwN04CSiWSS",
        "colab_type": "code",
        "outputId": "21dcd2a7-3eb4-4ec1-b3ac-884214cf2583",
        "colab": {
          "base_uri": "https://localhost:8080/",
          "height": 34
        }
      },
      "source": [
        "# Get the word\n",
        "movie_title = movie[11:30]; movie_title"
      ],
      "execution_count": 0,
      "outputs": [
        {
          "output_type": "execute_result",
          "data": {
            "text/plain": [
              "'desserts I stressed'"
            ]
          },
          "metadata": {
            "tags": []
          },
          "execution_count": 24
        }
      ]
    },
    {
      "cell_type": "code",
      "metadata": {
        "id": "91Or984IkSTU",
        "colab_type": "code",
        "outputId": "39986300-3ddf-4cd5-9252-5c263e31b319",
        "colab": {
          "base_uri": "https://localhost:8080/",
          "height": 34
        }
      },
      "source": [
        "# Obtain the palindrome\n",
        "palindrome = movie_title[::-1]; palindrome"
      ],
      "execution_count": 0,
      "outputs": [
        {
          "output_type": "execute_result",
          "data": {
            "text/plain": [
              "'desserts I stressed'"
            ]
          },
          "metadata": {
            "tags": []
          },
          "execution_count": 25
        }
      ]
    },
    {
      "cell_type": "code",
      "metadata": {
        "id": "bmiO2NVqkXPk",
        "colab_type": "code",
        "outputId": "74611beb-0a3d-4572-abe0-522d48a9339c",
        "colab": {
          "base_uri": "https://localhost:8080/",
          "height": 34
        }
      },
      "source": [
        "# Print the word if it's a palindrome\n",
        "if movie_title == palindrome:\n",
        "\tprint(movie_title)"
      ],
      "execution_count": 0,
      "outputs": [
        {
          "output_type": "stream",
          "text": [
            "desserts I stressed\n"
          ],
          "name": "stdout"
        }
      ]
    },
    {
      "cell_type": "markdown",
      "metadata": {
        "id": "upTe67Dpn13V",
        "colab_type": "text"
      },
      "source": [
        "# Normalizing reviews\n",
        "It's time to extract some important words present in your movie review dataset. First, you need to normalize them and then, count their frequency. Part of the normalization implies converting all the words to lowercase, removing special characters and extracting the root of a word so you count the variants as one.\n",
        "\n",
        "So imagine you have the following reviews: The movie surprises me very much and Marvel movies always surprise their audience. If you count the word frequency, you will count surprises one time and surprise one time. However, the verb surprise appears in both and its frequency should be two.\n",
        "\n",
        "The text of a movie review for only one example has been already saved in the variable movie. You can use print(movie) to view the variable in the IPython Shell."
      ]
    },
    {
      "cell_type": "code",
      "metadata": {
        "id": "qUDHqcZyn5yG",
        "colab_type": "code",
        "colab": {
          "base_uri": "https://localhost:8080/",
          "height": 34
        },
        "outputId": "2e4ce7ea-7c38-4113-86b0-52ee740f311d"
      },
      "source": [
        "movie = '$I supposed that coming from MTV Films I should expect no less$'; movie"
      ],
      "execution_count": 27,
      "outputs": [
        {
          "output_type": "execute_result",
          "data": {
            "text/plain": [
              "'$I supposed that coming from MTV Films I should expect no less$'"
            ]
          },
          "metadata": {
            "tags": []
          },
          "execution_count": 27
        }
      ]
    },
    {
      "cell_type": "code",
      "metadata": {
        "id": "RA6M4x6UoNNa",
        "colab_type": "code",
        "colab": {
          "base_uri": "https://localhost:8080/",
          "height": 34
        },
        "outputId": "95fe0411-93df-4550-fb42-2f69481d1be3"
      },
      "source": [
        "# Convert to lowercase and print the result\n",
        "movie_lower = movie.lower()\n",
        "print(movie_lower)"
      ],
      "execution_count": 28,
      "outputs": [
        {
          "output_type": "stream",
          "text": [
            "$i supposed that coming from mtv films i should expect no less$\n"
          ],
          "name": "stdout"
        }
      ]
    },
    {
      "cell_type": "code",
      "metadata": {
        "id": "tjbuMFUMoRH4",
        "colab_type": "code",
        "colab": {
          "base_uri": "https://localhost:8080/",
          "height": 34
        },
        "outputId": "28de8e49-e6ca-4d7c-cd13-56d3152641fb"
      },
      "source": [
        "# Remove whitespaces and print the result\n",
        "movie_no_space = movie_lower.strip(\"$\")\n",
        "print(movie_no_space)"
      ],
      "execution_count": 29,
      "outputs": [
        {
          "output_type": "stream",
          "text": [
            "i supposed that coming from mtv films i should expect no less\n"
          ],
          "name": "stdout"
        }
      ]
    },
    {
      "cell_type": "code",
      "metadata": {
        "id": "U6ItfkdaoXWR",
        "colab_type": "code",
        "colab": {
          "base_uri": "https://localhost:8080/",
          "height": 34
        },
        "outputId": "5c74cb93-e0f9-435a-f947-3b94d880700d"
      },
      "source": [
        "# Split the string into substrings and print the result\n",
        "movie_split = movie_no_space.split()\n",
        "print(movie_split)"
      ],
      "execution_count": 30,
      "outputs": [
        {
          "output_type": "stream",
          "text": [
            "['i', 'supposed', 'that', 'coming', 'from', 'mtv', 'films', 'i', 'should', 'expect', 'no', 'less']\n"
          ],
          "name": "stdout"
        }
      ]
    },
    {
      "cell_type": "code",
      "metadata": {
        "id": "4TapjHgyofjq",
        "colab_type": "code",
        "colab": {
          "base_uri": "https://localhost:8080/",
          "height": 34
        },
        "outputId": "5c1c2726-6688-430b-a655-fe5ff220691a"
      },
      "source": [
        "# Select root word and print the result\n",
        "word_root = movie_split[1][:-1]\n",
        "print(word_root)"
      ],
      "execution_count": 31,
      "outputs": [
        {
          "output_type": "stream",
          "text": [
            "suppose\n"
          ],
          "name": "stdout"
        }
      ]
    },
    {
      "cell_type": "markdown",
      "metadata": {
        "id": "LJJJQ1qDpWZR",
        "colab_type": "text"
      },
      "source": [
        "# Time to join!\n",
        "While normalizing your text, you noticed that one review had a particular structure. This review ends with the HTML tag <\\i> and it has a lot of commas in different places of the sentence. You decide to remove the tag from the end and use the strategy of splitting the string and joining it back again without the commas.\n",
        "\n",
        "The text of a movie review has been already saved in the variable movie. You can use print(movie) to view the variable in the IPython Shell."
      ]
    },
    {
      "cell_type": "code",
      "metadata": {
        "id": "DhLXkmShptC9",
        "colab_type": "code",
        "colab": {
          "base_uri": "https://localhost:8080/",
          "height": 34
        },
        "outputId": "c8b7c23c-599d-4018-9b43-e3d90818026f"
      },
      "source": [
        "movie =  'the film,however,is all good<\\\\i>'; movie"
      ],
      "execution_count": 35,
      "outputs": [
        {
          "output_type": "execute_result",
          "data": {
            "text/plain": [
              "'the film,however,is all good<\\\\i>'"
            ]
          },
          "metadata": {
            "tags": []
          },
          "execution_count": 35
        }
      ]
    },
    {
      "cell_type": "code",
      "metadata": {
        "id": "XhWb9FtspYNw",
        "colab_type": "code",
        "colab": {
          "base_uri": "https://localhost:8080/",
          "height": 34
        },
        "outputId": "6fa83096-5c2f-488a-b28f-7184639184e9"
      },
      "source": [
        "# Remove tags happening at the end and print results\n",
        "movie_tag = movie.rstrip(\"<\\i>\")\n",
        "print(movie_tag)"
      ],
      "execution_count": 36,
      "outputs": [
        {
          "output_type": "stream",
          "text": [
            "the film,however,is all good\n"
          ],
          "name": "stdout"
        }
      ]
    },
    {
      "cell_type": "code",
      "metadata": {
        "id": "X8loQp9npe4B",
        "colab_type": "code",
        "colab": {
          "base_uri": "https://localhost:8080/",
          "height": 34
        },
        "outputId": "b4df313e-a15c-4fee-cd17-3f403c1b4b70"
      },
      "source": [
        "# Split the string using commas and print results\n",
        "movie_no_comma = movie_tag.split(\",\")\n",
        "print(movie_no_comma)"
      ],
      "execution_count": 37,
      "outputs": [
        {
          "output_type": "stream",
          "text": [
            "['the film', 'however', 'is all good']\n"
          ],
          "name": "stdout"
        }
      ]
    },
    {
      "cell_type": "code",
      "metadata": {
        "id": "bmFXpRefpg4N",
        "colab_type": "code",
        "colab": {
          "base_uri": "https://localhost:8080/",
          "height": 34
        },
        "outputId": "a5c4eccc-95f9-4dce-ad0e-4a4ac010ffae"
      },
      "source": [
        "# Join back together and print results\n",
        "movie_join = \" \".join(movie_no_comma)\n",
        "print(movie_join)"
      ],
      "execution_count": 38,
      "outputs": [
        {
          "output_type": "stream",
          "text": [
            "the film however is all good\n"
          ],
          "name": "stdout"
        }
      ]
    },
    {
      "cell_type": "code",
      "metadata": {
        "id": "mc3xuUGCpjH7",
        "colab_type": "code",
        "colab": {}
      },
      "source": [
        ""
      ],
      "execution_count": 0,
      "outputs": []
    }
  ]
}