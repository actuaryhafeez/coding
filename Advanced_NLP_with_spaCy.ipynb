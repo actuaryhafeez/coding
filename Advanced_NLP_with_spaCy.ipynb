{
  "nbformat": 4,
  "nbformat_minor": 0,
  "metadata": {
    "colab": {
      "name": "Advanced NLP with spaCy.ipynb",
      "provenance": [],
      "include_colab_link": true
    },
    "kernelspec": {
      "name": "python3",
      "display_name": "Python 3"
    }
  },
  "cells": [
    {
      "cell_type": "markdown",
      "metadata": {
        "id": "view-in-github",
        "colab_type": "text"
      },
      "source": [
        "<a href=\"https://colab.research.google.com/github/actuaryhafeez/coding/blob/master/Advanced_NLP_with_spaCy.ipynb\" target=\"_parent\"><img src=\"https://colab.research.google.com/assets/colab-badge.svg\" alt=\"Open In Colab\"/></a>"
      ]
    },
    {
      "cell_type": "markdown",
      "metadata": {
        "id": "IuEukQL_yN2N",
        "colab_type": "text"
      },
      "source": [
        "# Getting Started\n",
        "Let's get started and try out spaCy! In this exercise, you'll be able to try out some of the 45+ available languages.\n",
        "\n",
        "This course introduces a lot of new concepts, so if you ever need a quick refresher, download the spaCy Cheat Sheet and keep it handy!"
      ]
    },
    {
      "cell_type": "code",
      "metadata": {
        "id": "AmrAWhehyC--",
        "colab_type": "code",
        "colab": {
          "base_uri": "https://localhost:8080/",
          "height": 34
        },
        "outputId": "41de4d42-9a25-4884-8045-e2370d951a70"
      },
      "source": [
        "# Import the English language class\n",
        "from spacy.lang.en import English\n",
        "\n",
        "# Create the nlp object\n",
        "nlp = English()\n",
        "\n",
        "# Process a text\n",
        "doc = nlp(\"This is a sentence.\")\n",
        "\n",
        "# Print the document text\n",
        "print(doc.text)"
      ],
      "execution_count": 1,
      "outputs": [
        {
          "output_type": "stream",
          "text": [
            "This is a sentence.\n"
          ],
          "name": "stdout"
        }
      ]
    },
    {
      "cell_type": "code",
      "metadata": {
        "id": "7agtDCA5yTwk",
        "colab_type": "code",
        "colab": {
          "base_uri": "https://localhost:8080/",
          "height": 34
        },
        "outputId": "f21bca97-e015-4d0c-c51d-918575255df0"
      },
      "source": [
        "# Import the German language class\n",
        "from spacy.lang.de import German\n",
        "\n",
        "# Create the nlp object\n",
        "nlp = German()\n",
        "\n",
        "# Process a text (this is German for: \"Kind regards!\")\n",
        "doc = nlp(\"Liebe Grüße!\")\n",
        "\n",
        "# Print the document text\n",
        "print(doc.text)"
      ],
      "execution_count": 2,
      "outputs": [
        {
          "output_type": "stream",
          "text": [
            "Liebe Grüße!\n"
          ],
          "name": "stdout"
        }
      ]
    },
    {
      "cell_type": "code",
      "metadata": {
        "id": "1pjFZD_1yt3L",
        "colab_type": "code",
        "colab": {
          "base_uri": "https://localhost:8080/",
          "height": 34
        },
        "outputId": "dfa6b1a8-d58f-4b71-c1f2-bb20f7d9d231"
      },
      "source": [
        "from spacy.lang.es import Spanish\n",
        "\n",
        "# Create the nlp object\n",
        "nlp = Spanish()\n",
        "\n",
        "# Process a text (this is Spanish for: \"How are you?\")\n",
        "doc = nlp(\"¿Cómo estás?\")\n",
        "\n",
        "# Print the document text\n",
        "print(doc.text)"
      ],
      "execution_count": 3,
      "outputs": [
        {
          "output_type": "stream",
          "text": [
            "¿Cómo estás?\n"
          ],
          "name": "stdout"
        }
      ]
    },
    {
      "cell_type": "markdown",
      "metadata": {
        "id": "OeUnpWmPzFzE",
        "colab_type": "text"
      },
      "source": [
        "# Documents, spans and tokens\n",
        "When you call nlp on a string, spaCy first tokenizes the text and creates a document object. In this exercise, you'll learn more about the Doc, as well as its views Token and Span."
      ]
    },
    {
      "cell_type": "code",
      "metadata": {
        "id": "rYa9TPEuy-nk",
        "colab_type": "code",
        "colab": {
          "base_uri": "https://localhost:8080/",
          "height": 34
        },
        "outputId": "ff82e30e-06b7-4734-a5fc-6829591eb630"
      },
      "source": [
        "from spacy.lang.en import English\n",
        "nlp = English()\n",
        "\n",
        "# Process the text\n",
        "doc = nlp(\"I like tree kangaroos and narwhals.\")\n",
        "\n",
        "# Select the first token\n",
        "first_token = doc[0]\n",
        "\n",
        "# Print the first token's text\n",
        "print(first_token.text)"
      ],
      "execution_count": 4,
      "outputs": [
        {
          "output_type": "stream",
          "text": [
            "I\n"
          ],
          "name": "stdout"
        }
      ]
    },
    {
      "cell_type": "code",
      "metadata": {
        "id": "Xc84LXS-zR4v",
        "colab_type": "code",
        "colab": {
          "base_uri": "https://localhost:8080/",
          "height": 51
        },
        "outputId": "a067f71c-041a-4444-f643-39332cf723cb"
      },
      "source": [
        "from spacy.lang.en import English\n",
        "nlp = English()\n",
        "\n",
        "# Process the text\n",
        "doc = nlp(\"I like tree kangaroos and narwhals.\")\n",
        "\n",
        "# A slice of the Doc for \"tree kangaroos\"\n",
        "tree_kangaroos = doc[2:4]\n",
        "print(tree_kangaroos.text)\n",
        "\n",
        "# A slice of the Doc for \"tree kangaroos and narwhals\" (without the \".\")\n",
        "tree_kangaroos_and_narwhals = doc[2:6]\n",
        "print(tree_kangaroos_and_narwhals.text)"
      ],
      "execution_count": 5,
      "outputs": [
        {
          "output_type": "stream",
          "text": [
            "tree kangaroos\n",
            "tree kangaroos and narwhals\n"
          ],
          "name": "stdout"
        }
      ]
    },
    {
      "cell_type": "markdown",
      "metadata": {
        "id": "9P2oeD9xzff_",
        "colab_type": "text"
      },
      "source": [
        "# Lexical attributes\n",
        "In this example, you'll use spaCy's Doc and Token objects, and lexical attributes to find percentages in a text. You'll be looking for two subsequent tokens: a number and a percent sign. The English nlp object has already been created."
      ]
    },
    {
      "cell_type": "code",
      "metadata": {
        "id": "PGe1kHdsziWe",
        "colab_type": "code",
        "colab": {
          "base_uri": "https://localhost:8080/",
          "height": 51
        },
        "outputId": "20c27d3e-ccaf-4c62-9950-79b2288337f3"
      },
      "source": [
        "# Process the text\n",
        "doc = nlp(\"In 1990, more than 60% of people in East Asia were in extreme poverty. Now less than 4% are.\")\n",
        "\n",
        "# Iterate over the tokens in the doc\n",
        "for token in doc:\n",
        "    # Check if the token resembles a number\n",
        "    if token.like_num:\n",
        "        # Get the next token in the document\n",
        "        next_token = doc[token.i + 1]\n",
        "        # Check if the next token's text equals '%'\n",
        "        if next_token.text == '%':\n",
        "            print('Percentage found:', token.text)"
      ],
      "execution_count": 6,
      "outputs": [
        {
          "output_type": "stream",
          "text": [
            "Percentage found: 60\n",
            "Percentage found: 4\n"
          ],
          "name": "stdout"
        }
      ]
    },
    {
      "cell_type": "markdown",
      "metadata": {
        "id": "bi1ybYzx0XUO",
        "colab_type": "text"
      },
      "source": [
        "# Loading models\n",
        "Let's start by loading a model. spacy is already imported."
      ]
    },
    {
      "cell_type": "code",
      "metadata": {
        "id": "mzy9erUxzmZK",
        "colab_type": "code",
        "colab": {
          "base_uri": "https://localhost:8080/",
          "height": 34
        },
        "outputId": "cf37e5f1-c5d8-4b94-8bcf-64bdae844525"
      },
      "source": [
        "import spacy\n",
        "# Load the 'en_core_web_sm' model – spaCy is already imported\n",
        "nlp = spacy.load('en_core_web_sm')\n",
        "\n",
        "text = \"It’s official: Apple is the first U.S. public company to reach a $1 trillion market value\"\n",
        "\n",
        "# Process the text\n",
        "doc = nlp(text)\n",
        "\n",
        "# Print the document text\n",
        "print(doc.text)"
      ],
      "execution_count": 8,
      "outputs": [
        {
          "output_type": "stream",
          "text": [
            "It’s official: Apple is the first U.S. public company to reach a $1 trillion market value\n"
          ],
          "name": "stdout"
        }
      ]
    },
    {
      "cell_type": "markdown",
      "metadata": {
        "id": "ndrhi9zl32lG",
        "colab_type": "text"
      },
      "source": [
        "# Predicting linguistic annotations\n",
        "You'll now get to try one of spaCy's pre-trained model packages and see its predictions in action. Feel free to try it out on your own text! The small English model is already available as the variable nlp.\n",
        "\n",
        "To find out what a tag or label means, you can call spacy.explain in the IPython shell. For example: spacy.explain('PROPN') or spacy.explain('GPE')"
      ]
    },
    {
      "cell_type": "code",
      "metadata": {
        "id": "GJ9axTa234De",
        "colab_type": "code",
        "colab": {
          "base_uri": "https://localhost:8080/",
          "height": 340
        },
        "outputId": "668a83e8-40c1-4f18-b9b0-4cff96b3f58d"
      },
      "source": [
        "text = \"It’s official: Apple is the first U.S. public company to reach a $1 trillion market value\"\n",
        "\n",
        "# Process the text\n",
        "doc = nlp(text)\n",
        "\n",
        "for token in doc:\n",
        "    # Get the token text, part-of-speech tag and dependency label\n",
        "    token_text = token.text\n",
        "    token_pos = token.pos_\n",
        "    token_dep = token.dep_\n",
        "    # This is for formatting only\n",
        "    print('{:<12}{:<10}{:<10}'.format(token_text, token_pos, token_dep))"
      ],
      "execution_count": 17,
      "outputs": [
        {
          "output_type": "stream",
          "text": [
            "It          PRON      nsubj     \n",
            "’s          PROPN     ROOT      \n",
            "official    NOUN      acomp     \n",
            ":           PUNCT     punct     \n",
            "Apple       PROPN     nsubj     \n",
            "is          VERB      ROOT      \n",
            "the         DET       det       \n",
            "first       ADJ       amod      \n",
            "U.S.        PROPN     nmod      \n",
            "public      ADJ       amod      \n",
            "company     NOUN      attr      \n",
            "to          PART      aux       \n",
            "reach       VERB      relcl     \n",
            "a           DET       det       \n",
            "$           SYM       quantmod  \n",
            "1           NUM       compound  \n",
            "trillion    NUM       nummod    \n",
            "market      NOUN      compound  \n",
            "value       NOUN      dobj      \n"
          ],
          "name": "stdout"
        }
      ]
    },
    {
      "cell_type": "code",
      "metadata": {
        "id": "LVaAMd1T4Wz6",
        "colab_type": "code",
        "colab": {
          "base_uri": "https://localhost:8080/",
          "height": 85
        },
        "outputId": "08db620d-5f36-48cd-ec50-86a401dd47db"
      },
      "source": [
        "text = \"It’s official: Apple is the first U.S. public company to reach a $1 trillion market value\"\n",
        "\n",
        "# Process the text\n",
        "doc = nlp(text)\n",
        "\n",
        "# Iterate over the predicted entities\n",
        "for ent in doc.ents:\n",
        "    # print the entity text and its label\n",
        "    print(ent.text, ent.label_)"
      ],
      "execution_count": 18,
      "outputs": [
        {
          "output_type": "stream",
          "text": [
            "Apple ORG\n",
            "first ORDINAL\n",
            "U.S. GPE\n",
            "$1 trillion MONEY\n"
          ],
          "name": "stdout"
        }
      ]
    },
    {
      "cell_type": "markdown",
      "metadata": {
        "id": "3KI3t--J4oXd",
        "colab_type": "text"
      },
      "source": [
        "# Predicting named entities in context\n",
        "Models are statistical and not always right. Whether their predictions are correct depends on the training data and the text you're processing. Let's take a look at an example. The small English model is available as the variable nlp."
      ]
    },
    {
      "cell_type": "code",
      "metadata": {
        "id": "5twDNz9n4fVf",
        "colab_type": "code",
        "colab": {
          "base_uri": "https://localhost:8080/",
          "height": 51
        },
        "outputId": "bedf8932-e5e7-491f-bcd7-961bf28b8056"
      },
      "source": [
        "text = \"New iPhone X release date leaked as Apple reveals pre-orders by mistake\"\n",
        "\n",
        "# Process the text\n",
        "doc = nlp(text)\n",
        "\n",
        "# Iterate over the entities\n",
        "for ent in doc.ents:\n",
        "    # print the entity text and label\n",
        "    print(ent.text, ent.label_)\n",
        "\n",
        "# Get the span for \"iPhone X\"\n",
        "iphone_x = doc[1:3]\n",
        "\n",
        "# Print the span text\n",
        "print('Missing entity:', iphone_x.text)"
      ],
      "execution_count": 19,
      "outputs": [
        {
          "output_type": "stream",
          "text": [
            "Apple ORG\n",
            "Missing entity: iPhone X\n"
          ],
          "name": "stdout"
        }
      ]
    },
    {
      "cell_type": "markdown",
      "metadata": {
        "id": "D1npds_55dqt",
        "colab_type": "text"
      },
      "source": [
        "# Using the Matcher\n",
        "Let's try spaCy's rule-based Matcher. You'll be using the example from the previous exercise and write a pattern that can match the phrase \"iPhone X\" in the text. The nlp object and a processed doc are already available."
      ]
    },
    {
      "cell_type": "code",
      "metadata": {
        "id": "9e3Tv1Mz40C0",
        "colab_type": "code",
        "colab": {
          "base_uri": "https://localhost:8080/",
          "height": 34
        },
        "outputId": "42ab1421-bf84-479b-bd48-1368ddd1444a"
      },
      "source": [
        "# Import the Matcher\n",
        "from spacy.matcher import Matcher\n",
        "\n",
        "# Initialize the Matcher with the shared vocabulary\n",
        "matcher = Matcher(nlp.vocab)\n",
        "\n",
        "# Create a pattern matching two tokens: \"iPhone\" and \"X\"\n",
        "pattern = [{'TEXT': \"iPhone\"}, \n",
        "           {'TEXT': \"X\"}]\n",
        "\n",
        "# Add the pattern to the matcher\n",
        "matcher.add('IPHONE_X_PATTERN', None, pattern)\n",
        "\n",
        "# Import the Matcher and initialize it with the shared vocabulary\n",
        "from spacy.matcher import Matcher\n",
        "matcher = Matcher(nlp.vocab)\n",
        "\n",
        "# Create a pattern matching two tokens: \"iPhone\" and \"X\"\n",
        "pattern = [{'TEXT': 'iPhone'}, {'TEXT': 'X'}]\n",
        "\n",
        "# Add the pattern to the matcher\n",
        "matcher.add('IPHONE_X_PATTERN', None, pattern)\n",
        "\n",
        "# Use the matcher on the doc\n",
        "matches = matcher(doc)\n",
        "print('Matches:', [doc[start:end].text for match_id, start, end in matches])"
      ],
      "execution_count": 22,
      "outputs": [
        {
          "output_type": "stream",
          "text": [
            "Matches: ['iPhone X']\n"
          ],
          "name": "stdout"
        }
      ]
    },
    {
      "cell_type": "markdown",
      "metadata": {
        "id": "2rGaH8Aa6Uew",
        "colab_type": "text"
      },
      "source": [
        "# Writing match patterns\n",
        "In this exercise, you'll practice writing more complex match patterns using different token attributes and operators. A matcher is already initialized and available as the variable matcher."
      ]
    },
    {
      "cell_type": "code",
      "metadata": {
        "id": "65XCukIL5vaT",
        "colab_type": "code",
        "colab": {
          "base_uri": "https://localhost:8080/",
          "height": 85
        },
        "outputId": "e07943a0-6f88-4cb5-d72d-fbba550f0570"
      },
      "source": [
        "doc = nlp(\"After making the iOS update you won't notice a radical system-wide redesign: nothing like the aesthetic upheaval we got with iOS 7. Most of iOS 11's furniture remains the same as in iOS 10. But you will discover some tweaks once you delve a little deeper.\")\n",
        "\n",
        "# Write a pattern for full iOS versions (\"iOS 7\", \"iOS 11\", \"iOS 10\")\n",
        "pattern = [{'TEXT': 'iOS'}, {'IS_DIGIT': True}]\n",
        "\n",
        "# Add the pattern to the matcher and apply the matcher to the doc\n",
        "matcher.add('IOS_VERSION_PATTERN', None, pattern)\n",
        "matches = matcher(doc)\n",
        "print('Total matches found:', len(matches))\n",
        "\n",
        "# Iterate over the matches and print the span text\n",
        "for match_id, start, end in matches:\n",
        "    print('Match found:', doc[start:end].text)"
      ],
      "execution_count": 23,
      "outputs": [
        {
          "output_type": "stream",
          "text": [
            "Total matches found: 3\n",
            "Match found: iOS 7\n",
            "Match found: iOS 11\n",
            "Match found: iOS 10\n"
          ],
          "name": "stdout"
        }
      ]
    },
    {
      "cell_type": "code",
      "metadata": {
        "id": "Y2s9Skx46rT0",
        "colab_type": "code",
        "colab": {
          "base_uri": "https://localhost:8080/",
          "height": 85
        },
        "outputId": "bc91259d-6a53-42a0-a7b8-1b33276d7f8d"
      },
      "source": [
        "doc = nlp(\"i downloaded Fortnite on my laptop and can't open the game at all. Help? so when I was downloading Minecraft, I got the Windows version where it is the '.zip' folder and I used the default program to unpack it... do I also need to download Winzip?\")\n",
        "\n",
        "# Write a pattern that matches a form of \"download\" plus proper noun\n",
        "pattern = [{'LEMMA': 'download'}, {'POS': 'PROPN'}]\n",
        "\n",
        "# Add the pattern to the matcher and apply the matcher to the doc\n",
        "matcher.add('DOWNLOAD_THINGS_PATTERN', None, pattern)\n",
        "matches = matcher(doc)\n",
        "print('Total matches found:', len(matches))\n",
        "\n",
        "# Iterate over the matches and print the span text\n",
        "for match_id, start, end in matches:\n",
        "    print('Match found:', doc[start:end].text)"
      ],
      "execution_count": 24,
      "outputs": [
        {
          "output_type": "stream",
          "text": [
            "Total matches found: 3\n",
            "Match found: downloaded Fortnite\n",
            "Match found: downloading Minecraft\n",
            "Match found: download Winzip\n"
          ],
          "name": "stdout"
        }
      ]
    },
    {
      "cell_type": "code",
      "metadata": {
        "id": "4E6uzMLj60Ih",
        "colab_type": "code",
        "colab": {
          "base_uri": "https://localhost:8080/",
          "height": 102
        },
        "outputId": "838c6455-27c7-41e8-f5f0-1bf81a2eb176"
      },
      "source": [
        "doc = nlp(\"Features of the app include a beautiful design, smart search, automatic labels and optional voice responses.\")\n",
        "\n",
        "# Write a pattern for adjective plus one or two nouns\n",
        "pattern = [{'POS': 'ADJ'}, {'POS': 'NOUN'}, {'POS': 'NOUN', 'OP': '?'}]\n",
        "\n",
        "# Add the pattern to the matcher and apply the matcher to the doc\n",
        "matcher.add('ADJ_NOUN_PATTERN', None, pattern)\n",
        "matches = matcher(doc)\n",
        "print('Total matches found:', len(matches))\n",
        "\n",
        "# Iterate over the matches and print the span text\n",
        "for match_id, start, end in matches:\n",
        "    print('Match found:', doc[start:end].text)"
      ],
      "execution_count": 25,
      "outputs": [
        {
          "output_type": "stream",
          "text": [
            "Total matches found: 4\n",
            "Match found: beautiful design\n",
            "Match found: smart search\n",
            "Match found: automatic labels\n",
            "Match found: optional voice responses\n"
          ],
          "name": "stdout"
        }
      ]
    },
    {
      "cell_type": "code",
      "metadata": {
        "id": "XEceSIVK66GC",
        "colab_type": "code",
        "colab": {}
      },
      "source": [
        ""
      ],
      "execution_count": 0,
      "outputs": []
    }
  ]
}