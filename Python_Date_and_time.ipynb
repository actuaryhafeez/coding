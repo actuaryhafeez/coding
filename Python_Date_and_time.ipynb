{
  "nbformat": 4,
  "nbformat_minor": 0,
  "metadata": {
    "colab": {
      "name": "Python Date and time.ipynb",
      "provenance": [],
      "include_colab_link": true
    },
    "kernelspec": {
      "name": "python3",
      "display_name": "Python 3"
    }
  },
  "cells": [
    {
      "cell_type": "markdown",
      "metadata": {
        "id": "view-in-github",
        "colab_type": "text"
      },
      "source": [
        "<a href=\"https://colab.research.google.com/github/actuaryhafeez/coding/blob/master/Python_Date_and_time.ipynb\" target=\"_parent\"><img src=\"https://colab.research.google.com/assets/colab-badge.svg\" alt=\"Open In Colab\"/></a>"
      ]
    },
    {
      "cell_type": "markdown",
      "metadata": {
        "id": "8Xoj6w6ogCbR",
        "colab_type": "text"
      },
      "source": [
        "# Python Date and time\n",
        "\n",
        "Python has a module named datetime to work with dates and times. Let's create a few simple programs related to date and time before we dig deeper."
      ]
    },
    {
      "cell_type": "code",
      "metadata": {
        "id": "VUN6lz5UUWom",
        "colab_type": "code",
        "colab": {
          "base_uri": "https://localhost:8080/",
          "height": 34
        },
        "outputId": "a3eef132-d0b3-4e8a-9b6e-f05a83a7a9c0"
      },
      "source": [
        "# Example 1: Get Current Date and Time\n",
        "import datetime\n",
        "datetime_object = datetime.datetime.now()\n",
        "print(datetime_object)"
      ],
      "execution_count": 14,
      "outputs": [
        {
          "output_type": "stream",
          "text": [
            "2019-12-23 20:44:52.484751\n"
          ],
          "name": "stdout"
        }
      ]
    },
    {
      "cell_type": "code",
      "metadata": {
        "id": "CW-7OirxUty0",
        "colab_type": "code",
        "colab": {
          "base_uri": "https://localhost:8080/",
          "height": 34
        },
        "outputId": "9cf293c4-a205-4aa7-dc89-154b51d960a5"
      },
      "source": [
        "# Example 2: Get Current Date\n",
        "import datetime\n",
        "date_object = datetime.date.today()\n",
        "print(date_object)"
      ],
      "execution_count": 15,
      "outputs": [
        {
          "output_type": "stream",
          "text": [
            "2019-12-23\n"
          ],
          "name": "stdout"
        }
      ]
    },
    {
      "cell_type": "code",
      "metadata": {
        "id": "uP5u6rRWVCJo",
        "colab_type": "code",
        "colab": {
          "base_uri": "https://localhost:8080/",
          "height": 54
        },
        "outputId": "f419ad36-8a97-46fb-dd67-578845338e2e"
      },
      "source": [
        "# What's inside datetime?\n",
        "\n",
        "# We can use dir() function to get a list containing all attributes of a module.\n",
        "\n",
        "import datetime\n",
        "print(dir(datetime))"
      ],
      "execution_count": 16,
      "outputs": [
        {
          "output_type": "stream",
          "text": [
            "['MAXYEAR', 'MINYEAR', '__builtins__', '__cached__', '__doc__', '__file__', '__loader__', '__name__', '__package__', '__spec__', 'date', 'datetime', 'datetime_CAPI', 'sys', 'time', 'timedelta', 'timezone', 'tzinfo']\n"
          ],
          "name": "stdout"
        }
      ]
    },
    {
      "cell_type": "code",
      "metadata": {
        "id": "arenYxZChBin",
        "colab_type": "code",
        "colab": {
          "base_uri": "https://localhost:8080/",
          "height": 34
        },
        "outputId": "de9cfb2f-c7d1-44cd-d3ba-c489ff66b894"
      },
      "source": [
        "# Example 3: Date object to represent a date\n",
        "import datetime\n",
        "d = datetime.date(2019, 4, 13)\n",
        "print(d)"
      ],
      "execution_count": 17,
      "outputs": [
        {
          "output_type": "stream",
          "text": [
            "2019-04-13\n"
          ],
          "name": "stdout"
        }
      ]
    },
    {
      "cell_type": "code",
      "metadata": {
        "id": "07pBQijFh2o9",
        "colab_type": "code",
        "colab": {
          "base_uri": "https://localhost:8080/",
          "height": 34
        },
        "outputId": "bcbfa65f-0360-41e8-abe0-7285e83eee4a"
      },
      "source": [
        "from datetime import date\n",
        "a = date(2019, 4, 13)\n",
        "print(a)"
      ],
      "execution_count": 18,
      "outputs": [
        {
          "output_type": "stream",
          "text": [
            "2019-04-13\n"
          ],
          "name": "stdout"
        }
      ]
    },
    {
      "cell_type": "markdown",
      "metadata": {
        "id": "xPqknQemiViR",
        "colab_type": "text"
      },
      "source": [
        "Example 4: Get current date\n",
        "\n",
        "You can create a date object containing the current date by using a classmethod named today(). Here's how:"
      ]
    },
    {
      "cell_type": "code",
      "metadata": {
        "id": "XU0AEUyTiN9A",
        "colab_type": "code",
        "colab": {
          "base_uri": "https://localhost:8080/",
          "height": 34
        },
        "outputId": "6bbd2090-bb35-4ce8-edf4-8972ea273e3b"
      },
      "source": [
        "from datetime import date\n",
        "today = date.today()\n",
        "print(\"Current date =\", today)"
      ],
      "execution_count": 19,
      "outputs": [
        {
          "output_type": "stream",
          "text": [
            "Current date = 2019-12-23\n"
          ],
          "name": "stdout"
        }
      ]
    },
    {
      "cell_type": "markdown",
      "metadata": {
        "id": "OJKiXMzciv9V",
        "colab_type": "text"
      },
      "source": [
        "# Example 5: Get date from a timestamp\n",
        "We can also create date objects from a timestamp. A Unix timestamp is the number of seconds between a particular date and January 1, 1970 at UTC. You can convert a timestamp to date using fromtimestamp() method."
      ]
    },
    {
      "cell_type": "code",
      "metadata": {
        "id": "hvXvwjDRiz8n",
        "colab_type": "code",
        "colab": {
          "base_uri": "https://localhost:8080/",
          "height": 34
        },
        "outputId": "e4cfc9b8-3abf-483f-a3ea-f4b343cd848f"
      },
      "source": [
        "from datetime import date\n",
        "timestamp = date.fromtimestamp(1326244364)\n",
        "print(\"Date =\", timestamp)"
      ],
      "execution_count": 20,
      "outputs": [
        {
          "output_type": "stream",
          "text": [
            "Date = 2012-01-11\n"
          ],
          "name": "stdout"
        }
      ]
    },
    {
      "cell_type": "markdown",
      "metadata": {
        "id": "_ZqYZwubjOVc",
        "colab_type": "text"
      },
      "source": [
        "# Example 6: Print today's year, month and day\n",
        "We can get year, month, day, day of the week etc. from the date object easily. Here's how:"
      ]
    },
    {
      "cell_type": "code",
      "metadata": {
        "id": "b1eLkR9Yi3WI",
        "colab_type": "code",
        "colab": {
          "base_uri": "https://localhost:8080/",
          "height": 68
        },
        "outputId": "aa24f71d-53a2-4f05-9a9d-38bb2c8cffc8"
      },
      "source": [
        "from datetime import date\n",
        "# date object of today's date\n",
        "today = date.today() \n",
        "print(\"Current year:\", today.year)\n",
        "print(\"Current month:\", today.month)\n",
        "print(\"Current day:\", today.day)"
      ],
      "execution_count": 21,
      "outputs": [
        {
          "output_type": "stream",
          "text": [
            "Current year: 2019\n",
            "Current month: 12\n",
            "Current day: 23\n"
          ],
          "name": "stdout"
        }
      ]
    },
    {
      "cell_type": "markdown",
      "metadata": {
        "id": "Iz1oaHzmjY-x",
        "colab_type": "text"
      },
      "source": [
        "# datetime.time\n",
        "A time object instantiated from the time class represents the local time.\n",
        "\n",
        "## Example 7: Time object to represent time"
      ]
    },
    {
      "cell_type": "code",
      "metadata": {
        "id": "XCRARj7AjTMr",
        "colab_type": "code",
        "colab": {
          "base_uri": "https://localhost:8080/",
          "height": 85
        },
        "outputId": "6d6dccd9-b5a8-4e04-9512-ab23f1419474"
      },
      "source": [
        "from datetime import time\n",
        "# time(hour = 0, minute = 0, second = 0)\n",
        "a = time()\n",
        "print(\"a =\", a)\n",
        "# time(hour, minute and second)\n",
        "b = time(11, 34, 56)\n",
        "print(\"b =\", b)\n",
        "# time(hour, minute and second)\n",
        "c = time(hour = 11, minute = 34, second = 56)\n",
        "print(\"c =\", c)\n",
        "# time(hour, minute, second, microsecond)\n",
        "d = time(11, 34, 56, 234566)\n",
        "print(\"d =\", d)"
      ],
      "execution_count": 22,
      "outputs": [
        {
          "output_type": "stream",
          "text": [
            "a = 00:00:00\n",
            "b = 11:34:56\n",
            "c = 11:34:56\n",
            "d = 11:34:56.234566\n"
          ],
          "name": "stdout"
        }
      ]
    },
    {
      "cell_type": "markdown",
      "metadata": {
        "id": "T6j-caBWjlr_",
        "colab_type": "text"
      },
      "source": [
        "# Example 8: Print hour, minute, second and microsecond\n",
        "Once you create a time object, you can easily print its attributes such as hour, minute etc."
      ]
    },
    {
      "cell_type": "code",
      "metadata": {
        "id": "kt8iBmiNjfcv",
        "colab_type": "code",
        "colab": {
          "base_uri": "https://localhost:8080/",
          "height": 85
        },
        "outputId": "5e7afd4f-5365-4afc-f031-b4834884922f"
      },
      "source": [
        "from datetime import time\n",
        "a = time(11, 34, 56)\n",
        "print(\"hour =\", a.hour)\n",
        "print(\"minute =\", a.minute)\n",
        "print(\"second =\", a.second)\n",
        "print(\"microsecond =\", a.microsecond)"
      ],
      "execution_count": 23,
      "outputs": [
        {
          "output_type": "stream",
          "text": [
            "hour = 11\n",
            "minute = 34\n",
            "second = 56\n",
            "microsecond = 0\n"
          ],
          "name": "stdout"
        }
      ]
    },
    {
      "cell_type": "markdown",
      "metadata": {
        "id": "B2swT3pIjy3C",
        "colab_type": "text"
      },
      "source": [
        "# datetime.datetime\n",
        "The datetime module has a class named dateclass that can contain information from both date and time objects.\n",
        "\n",
        "## Example 9: Python datetime object\n"
      ]
    },
    {
      "cell_type": "code",
      "metadata": {
        "id": "VJgbFqluj3Y-",
        "colab_type": "code",
        "colab": {
          "base_uri": "https://localhost:8080/",
          "height": 51
        },
        "outputId": "34af24e0-ba0d-47ee-d5c6-fa82c09752be"
      },
      "source": [
        "from datetime import datetime\n",
        "#datetime(year, month, day)\n",
        "a = datetime(2018, 11, 28)\n",
        "print(a)\n",
        "# datetime(year, month, day, hour, minute, second, microsecond)\n",
        "b = datetime(2017, 11, 28, 23, 55, 59, 342380)\n",
        "print(b)"
      ],
      "execution_count": 24,
      "outputs": [
        {
          "output_type": "stream",
          "text": [
            "2018-11-28 00:00:00\n",
            "2017-11-28 23:55:59.342380\n"
          ],
          "name": "stdout"
        }
      ]
    },
    {
      "cell_type": "code",
      "metadata": {
        "id": "2zhZImRQj55M",
        "colab_type": "code",
        "colab": {
          "base_uri": "https://localhost:8080/",
          "height": 102
        },
        "outputId": "13b0f974-e764-42e3-b895-c4731eda56a9"
      },
      "source": [
        "# Example 10: Print year, month, hour, minute and timestamp\n",
        "from datetime import datetime\n",
        "a = datetime(2017, 11, 28, 23, 55, 59, 342380)\n",
        "print(\"year =\", a.year)\n",
        "print(\"month =\", a.month)\n",
        "print(\"hour =\", a.hour)\n",
        "print(\"minute =\", a.minute)\n",
        "print(\"timestamp =\", a.timestamp())"
      ],
      "execution_count": 25,
      "outputs": [
        {
          "output_type": "stream",
          "text": [
            "year = 2017\n",
            "month = 11\n",
            "hour = 23\n",
            "minute = 55\n",
            "timestamp = 1511913359.34238\n"
          ],
          "name": "stdout"
        }
      ]
    },
    {
      "cell_type": "markdown",
      "metadata": {
        "id": "dL6UNmQclDvg",
        "colab_type": "text"
      },
      "source": [
        "# datetime.timedelta\n",
        "A timedelta object represents the difference between two dates or times.\n",
        "\n",
        "## Example 11: Difference between two dates and times"
      ]
    },
    {
      "cell_type": "code",
      "metadata": {
        "id": "hwbA3l1qlGph",
        "colab_type": "code",
        "colab": {
          "base_uri": "https://localhost:8080/",
          "height": 85
        },
        "outputId": "cdd3147d-26d0-450f-b5a9-afd0ac1cc5a0"
      },
      "source": [
        "from datetime import datetime, date\n",
        "t1 = date(year = 2018, month = 7, day = 12)\n",
        "t2 = date(year = 2017, month = 12, day = 23)\n",
        "t3 = t1 - t2\n",
        "print(\"t3 =\", t3)\n",
        "t4 = datetime(year = 2018, month = 7, day = 12, hour = 7, minute = 9, second = 33)\n",
        "t5 = datetime(year = 2019, month = 6, day = 10, hour = 5, minute = 55, second = 13)\n",
        "t6 = t4 - t5\n",
        "print(\"t6 =\", t6)\n",
        "print(\"type of t3 =\", type(t3)) \n",
        "print(\"type of t6 =\", type(t6))"
      ],
      "execution_count": 26,
      "outputs": [
        {
          "output_type": "stream",
          "text": [
            "t3 = 201 days, 0:00:00\n",
            "t6 = -333 days, 1:14:20\n",
            "type of t3 = <class 'datetime.timedelta'>\n",
            "type of t6 = <class 'datetime.timedelta'>\n"
          ],
          "name": "stdout"
        }
      ]
    },
    {
      "cell_type": "code",
      "metadata": {
        "id": "wBcgQjq7lJ8n",
        "colab_type": "code",
        "colab": {
          "base_uri": "https://localhost:8080/",
          "height": 34
        },
        "outputId": "df51d9ea-d20e-4d18-8dbe-b7797e31e081"
      },
      "source": [
        "# Example 12: Difference between two timedelta objects\n",
        "from datetime import timedelta\n",
        "t1 = timedelta(weeks = 2, days = 5, hours = 1, seconds = 33)\n",
        "t2 = timedelta(days = 4, hours = 11, minutes = 4, seconds = 54)\n",
        "t3 = t1 - t2\n",
        "print(\"t3 =\", t3)"
      ],
      "execution_count": 27,
      "outputs": [
        {
          "output_type": "stream",
          "text": [
            "t3 = 14 days, 13:55:39\n"
          ],
          "name": "stdout"
        }
      ]
    },
    {
      "cell_type": "code",
      "metadata": {
        "id": "XKkP9hNSlP9n",
        "colab_type": "code",
        "colab": {
          "base_uri": "https://localhost:8080/",
          "height": 51
        },
        "outputId": "a9c693cd-1194-4039-c770-3a7d7c836a14"
      },
      "source": [
        "# Example 13: Printing negative timedelta object\n",
        "from datetime import timedelta\n",
        "t1 = timedelta(seconds = 33)\n",
        "t2 = timedelta(seconds = 54)\n",
        "t3 = t1 - t2\n",
        "print(\"t3 =\", t3)\n",
        "print(\"t3 =\", abs(t3))"
      ],
      "execution_count": 28,
      "outputs": [
        {
          "output_type": "stream",
          "text": [
            "t3 = -1 day, 23:59:39\n",
            "t3 = 0:00:21\n"
          ],
          "name": "stdout"
        }
      ]
    },
    {
      "cell_type": "markdown",
      "metadata": {
        "id": "O_dveNMglZnh",
        "colab_type": "text"
      },
      "source": [
        "# Example 14: Time duration in seconds\n",
        "You can get the total number of seconds in a timedelta object using total_seconds() method."
      ]
    },
    {
      "cell_type": "code",
      "metadata": {
        "id": "Cg3LJwfnlbHJ",
        "colab_type": "code",
        "colab": {
          "base_uri": "https://localhost:8080/",
          "height": 34
        },
        "outputId": "3ae1f0e3-db4b-432e-d409-d37fc645caa9"
      },
      "source": [
        "from datetime import timedelta\n",
        "t = timedelta(days = 5, hours = 1, seconds = 33, microseconds = 233423)\n",
        "print(\"total seconds =\", t.total_seconds())"
      ],
      "execution_count": 29,
      "outputs": [
        {
          "output_type": "stream",
          "text": [
            "total seconds = 435633.233423\n"
          ],
          "name": "stdout"
        }
      ]
    },
    {
      "cell_type": "markdown",
      "metadata": {
        "id": "0s_Lg1cYlkWc",
        "colab_type": "text"
      },
      "source": [
        "# Python format datetime\n",
        "The way date and time is represented may be different in different places, organizations etc. It's more common to use mm/dd/yyyy in the US, whereas dd/mm/yyyy is more common in the UK.\n",
        "\n",
        "Python has strftime() and strptime() methods to handle this.\n",
        "\n",
        "# Python strftime() - datetime object to string\n",
        "The strftime() method is defined under classes date, datetime and time. The method creates a formatted string from a given date, datetime or time object.\n",
        "\n",
        "# Example 15: Format date using strftime()"
      ]
    },
    {
      "cell_type": "code",
      "metadata": {
        "id": "MjU_H-W9lpwX",
        "colab_type": "code",
        "colab": {
          "base_uri": "https://localhost:8080/",
          "height": 68
        },
        "outputId": "49a5432b-11dd-4e9c-b523-f2d26dade50f"
      },
      "source": [
        "from datetime import datetime\n",
        "# current date and time\n",
        "now = datetime.now()\n",
        "t = now.strftime(\"%H:%M:%S\")\n",
        "print(\"time:\", t)\n",
        "s1 = now.strftime(\"%m/%d/%Y, %H:%M:%S\")\n",
        "# mm/dd/YY H:M:S format\n",
        "print(\"s1:\", s1)\n",
        "s2 = now.strftime(\"%d/%m/%Y, %H:%M:%S\")\n",
        "# dd/mm/YY H:M:S format\n",
        "print(\"s2:\", s2)"
      ],
      "execution_count": 30,
      "outputs": [
        {
          "output_type": "stream",
          "text": [
            "time: 21:08:18\n",
            "s1: 12/23/2019, 21:08:18\n",
            "s2: 23/12/2019, 21:08:18\n"
          ],
          "name": "stdout"
        }
      ]
    },
    {
      "cell_type": "markdown",
      "metadata": {
        "id": "0ZKkvCyql1ou",
        "colab_type": "text"
      },
      "source": [
        "# Python strptime() - string to datetime\n",
        "The strptime() method creates a datetime object from a given string (representing date and time).\n",
        "\n",
        "## Example 16: strptime()"
      ]
    },
    {
      "cell_type": "code",
      "metadata": {
        "id": "FmZ9w2Afl4SV",
        "colab_type": "code",
        "colab": {
          "base_uri": "https://localhost:8080/",
          "height": 51
        },
        "outputId": "2e74abf3-32a2-4935-8544-e0edb8aa398f"
      },
      "source": [
        "from datetime import datetime\n",
        "date_string = \"21 June, 2018\"\n",
        "print(\"date_string =\", date_string)\n",
        "date_object = datetime.strptime(date_string, \"%d %B, %Y\")\n",
        "print(\"date_object =\", date_object)"
      ],
      "execution_count": 31,
      "outputs": [
        {
          "output_type": "stream",
          "text": [
            "date_string = 21 June, 2018\n",
            "date_object = 2018-06-21 00:00:00\n"
          ],
          "name": "stdout"
        }
      ]
    },
    {
      "cell_type": "markdown",
      "metadata": {
        "id": "yQhcxzNPmAy9",
        "colab_type": "text"
      },
      "source": [
        "# Handling timezone in Python\n",
        "Suppose, you are working on a project and need to display date and time based on their timezone. Rather than trying to handle timezone yourself, we suggest you to use a third-party pytZ module."
      ]
    },
    {
      "cell_type": "code",
      "metadata": {
        "id": "h75dYY2umCQs",
        "colab_type": "code",
        "colab": {
          "base_uri": "https://localhost:8080/",
          "height": 68
        },
        "outputId": "790d9b1e-c51a-407d-9a0c-6e096602d26a"
      },
      "source": [
        "from datetime import datetime\n",
        "import pytz\n",
        "local = datetime.now()\n",
        "print(\"Local:\", local.strftime(\"%m/%d/%Y, %H:%M:%S\"))\n",
        "tz_NY = pytz.timezone('America/New_York') \n",
        "datetime_NY = datetime.now(tz_NY)\n",
        "print(\"NY:\", datetime_NY.strftime(\"%m/%d/%Y, %H:%M:%S\"))\n",
        "tz_London = pytz.timezone('Europe/London')\n",
        "datetime_London = datetime.now(tz_London)\n",
        "print(\"London:\", datetime_London.strftime(\"%m/%d/%Y, %H:%M:%S\"))"
      ],
      "execution_count": 32,
      "outputs": [
        {
          "output_type": "stream",
          "text": [
            "Local: 12/23/2019, 21:09:53\n",
            "NY: 12/23/2019, 16:09:53\n",
            "London: 12/23/2019, 21:09:53\n"
          ],
          "name": "stdout"
        }
      ]
    },
    {
      "cell_type": "code",
      "metadata": {
        "id": "tdpct34vmE0K",
        "colab_type": "code",
        "colab": {}
      },
      "source": [
        ""
      ],
      "execution_count": 0,
      "outputs": []
    }
  ]
}