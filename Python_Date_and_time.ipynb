{
  "nbformat": 4,
  "nbformat_minor": 0,
  "metadata": {
    "colab": {
      "name": "Python Date and time.ipynb",
      "provenance": [],
      "include_colab_link": true
    },
    "kernelspec": {
      "name": "python3",
      "display_name": "Python 3"
    }
  },
  "cells": [
    {
      "cell_type": "markdown",
      "metadata": {
        "id": "view-in-github",
        "colab_type": "text"
      },
      "source": [
        "<a href=\"https://colab.research.google.com/github/actuaryhafeez/coding/blob/master/Python_Date_and_time.ipynb\" target=\"_parent\"><img src=\"https://colab.research.google.com/assets/colab-badge.svg\" alt=\"Open In Colab\"/></a>"
      ]
    },
    {
      "cell_type": "markdown",
      "metadata": {
        "id": "8Xoj6w6ogCbR",
        "colab_type": "text"
      },
      "source": [
        "# Python Date and time\n",
        "\n",
        "Python has a module named datetime to work with dates and times. Let's create a few simple programs related to date and time before we dig deeper."
      ]
    },
    {
      "cell_type": "code",
      "metadata": {
        "id": "VUN6lz5UUWom",
        "colab_type": "code",
        "colab": {
          "base_uri": "https://localhost:8080/",
          "height": 34
        },
        "outputId": "a3eef132-d0b3-4e8a-9b6e-f05a83a7a9c0"
      },
      "source": [
        "# Example 1: Get Current Date and Time\n",
        "import datetime\n",
        "datetime_object = datetime.datetime.now()\n",
        "print(datetime_object)"
      ],
      "execution_count": 14,
      "outputs": [
        {
          "output_type": "stream",
          "text": [
            "2019-12-23 20:44:52.484751\n"
          ],
          "name": "stdout"
        }
      ]
    },
    {
      "cell_type": "code",
      "metadata": {
        "id": "CW-7OirxUty0",
        "colab_type": "code",
        "colab": {
          "base_uri": "https://localhost:8080/",
          "height": 34
        },
        "outputId": "9cf293c4-a205-4aa7-dc89-154b51d960a5"
      },
      "source": [
        "# Example 2: Get Current Date\n",
        "import datetime\n",
        "date_object = datetime.date.today()\n",
        "print(date_object)"
      ],
      "execution_count": 15,
      "outputs": [
        {
          "output_type": "stream",
          "text": [
            "2019-12-23\n"
          ],
          "name": "stdout"
        }
      ]
    },
    {
      "cell_type": "code",
      "metadata": {
        "id": "uP5u6rRWVCJo",
        "colab_type": "code",
        "colab": {
          "base_uri": "https://localhost:8080/",
          "height": 54
        },
        "outputId": "f419ad36-8a97-46fb-dd67-578845338e2e"
      },
      "source": [
        "# What's inside datetime?\n",
        "\n",
        "# We can use dir() function to get a list containing all attributes of a module.\n",
        "\n",
        "import datetime\n",
        "print(dir(datetime))"
      ],
      "execution_count": 16,
      "outputs": [
        {
          "output_type": "stream",
          "text": [
            "['MAXYEAR', 'MINYEAR', '__builtins__', '__cached__', '__doc__', '__file__', '__loader__', '__name__', '__package__', '__spec__', 'date', 'datetime', 'datetime_CAPI', 'sys', 'time', 'timedelta', 'timezone', 'tzinfo']\n"
          ],
          "name": "stdout"
        }
      ]
    },
    {
      "cell_type": "code",
      "metadata": {
        "id": "arenYxZChBin",
        "colab_type": "code",
        "colab": {}
      },
      "source": [
        ""
      ],
      "execution_count": 0,
      "outputs": []
    }
  ]
}